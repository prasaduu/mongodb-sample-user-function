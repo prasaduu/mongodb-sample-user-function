{
 "cells": [
  {
   "cell_type": "code",
   "execution_count": 1,
   "metadata": {},
   "outputs": [
    {
     "name": "stdout",
     "output_type": "stream",
     "text": [
      "Requirement already satisfied: requests in /home/ib-tech-24/snap/jupyter/common/lib/python3.7/site-packages (2.25.1)\n",
      "Requirement already satisfied: certifi>=2017.4.17 in /snap/jupyter/6/lib/python3.7/site-packages (from requests) (2019.3.9)\n",
      "Requirement already satisfied: urllib3<1.27,>=1.21.1 in /home/ib-tech-24/snap/jupyter/common/lib/python3.7/site-packages (from requests) (1.26.4)\n",
      "Requirement already satisfied: chardet<5,>=3.0.2 in /home/ib-tech-24/snap/jupyter/common/lib/python3.7/site-packages (from requests) (4.0.0)\n",
      "Requirement already satisfied: idna<3,>=2.5 in /home/ib-tech-24/snap/jupyter/common/lib/python3.7/site-packages (from requests) (2.10)\n",
      "Note: you may need to restart the kernel to use updated packages.\n"
     ]
    }
   ],
   "source": [
    "pip install requests"
   ]
  },
  {
   "cell_type": "code",
   "execution_count": 2,
   "metadata": {},
   "outputs": [],
   "source": [
    "import requests"
   ]
  },
  {
   "cell_type": "code",
   "execution_count": 127,
   "metadata": {},
   "outputs": [
    {
     "name": "stdout",
     "output_type": "stream",
     "text": [
      "200\n"
     ]
    }
   ],
   "source": [
    "response = requests.post(\n",
    "    url=\"https://2110ezcuk0.execute-api.ap-south-1.amazonaws.com/dev/hello-world\",\n",
    "    json={\n",
    "        \"code\":\"function multiply(){return 25*8}\"\n",
    "    }\n",
    ")\n",
    "print(response.json()['output'])"
   ]
  },
  {
   "cell_type": "code",
   "execution_count": 128,
   "metadata": {},
   "outputs": [
    {
     "name": "stdout",
     "output_type": "stream",
     "text": [
      "64\n"
     ]
    }
   ],
   "source": [
    "response = requests.post(\n",
    "    url=\"https://2110ezcuk0.execute-api.ap-south-1.amazonaws.com/dev/hello-world\",\n",
    "    json={\n",
    "        \"code\":\"function square(a){return a*a}\",\n",
    "        \"params\":\"8\"\n",
    "    }\n",
    ")\n",
    "print(response.json()['output'])"
   ]
  },
  {
   "cell_type": "code",
   "execution_count": 129,
   "metadata": {},
   "outputs": [
    {
     "name": "stdout",
     "output_type": "stream",
     "text": [
      "32\n"
     ]
    }
   ],
   "source": [
    "response = requests.post(\n",
    "    url=\"https://2110ezcuk0.execute-api.ap-south-1.amazonaws.com/dev/hello-world\",\n",
    "    json={\n",
    "        \"code\":\"function multiply(a,b){return a*b}\",\n",
    "        \"params\":\"8,4\"\n",
    "    }\n",
    ")\n",
    "print(response.json()['output'])"
   ]
  },
  {
   "cell_type": "code",
   "execution_count": 130,
   "metadata": {},
   "outputs": [
    {
     "name": "stdout",
     "output_type": "stream",
     "text": [
      "Unexpected token 'return'\n"
     ]
    }
   ],
   "source": [
    "response = requests.post(\n",
    "    url=\"https://2110ezcuk0.execute-api.ap-south-1.amazonaws.com/dev/hello-world\",\n",
    "    json={\n",
    "        \"code\":\"(function (){ let a = 8,  b = 10; const multiply = (c) => { return a * c + b * c;} return multiply(4);})()\"\n",
    "    }\n",
    ")\n",
    "print(response.json()['output'])"
   ]
  },
  {
   "cell_type": "code",
   "execution_count": 131,
   "metadata": {},
   "outputs": [
    {
     "name": "stdout",
     "output_type": "stream",
     "text": [
      "5040\n"
     ]
    }
   ],
   "source": [
    "response = requests.post(\n",
    "    url=\"https://2110ezcuk0.execute-api.ap-south-1.amazonaws.com/dev/hello-world\",\n",
    "    json={\n",
    "        \"code\":\"function square(a){let prod = 1;for(let i=a;i>0;i--)prod*=i; return prod}\",\n",
    "        \"params\":\"7\"\n",
    "    }\n",
    ")\n",
    "print(response.json()['output'])"
   ]
  },
  {
   "cell_type": "code",
   "execution_count": 132,
   "metadata": {},
   "outputs": [
    {
     "name": "stdout",
     "output_type": "stream",
     "text": [
      "154\n"
     ]
    }
   ],
   "source": [
    "response = requests.post(\n",
    "    url=\"https://2110ezcuk0.execute-api.ap-south-1.amazonaws.com/dev/hello-world\",\n",
    "    json={\n",
    "        \"code\":\"function areaOfCircle(radius){return pi*radius*radius;}\",\n",
    "        \"params\":\"7\"\n",
    "    }\n",
    ")\n",
    "print(response.json()['output'])"
   ]
  },
  {
   "cell_type": "code",
   "execution_count": 133,
   "metadata": {},
   "outputs": [
    {
     "name": "stdout",
     "output_type": "stream",
     "text": [
      "15\n"
     ]
    }
   ],
   "source": [
    "response = requests.post(\n",
    "    url=\"https://2110ezcuk0.execute-api.ap-south-1.amazonaws.com/dev/hello-world\",\n",
    "    json={\n",
    "        \"code\":\"function arraySumReducer(){let arr = [1,2,3,4,5]; return arr.reduce((total,num)=>total+num,0)}\",\n",
    "    }\n",
    ")\n",
    "print(response.json()['output'])"
   ]
  },
  {
   "cell_type": "code",
   "execution_count": null,
   "metadata": {},
   "outputs": [],
   "source": []
  }
 ],
 "metadata": {
  "kernelspec": {
   "display_name": "Python 3",
   "language": "python",
   "name": "python3"
  },
  "language_info": {
   "codemirror_mode": {
    "name": "ipython",
    "version": 3
   },
   "file_extension": ".py",
   "mimetype": "text/x-python",
   "name": "python",
   "nbconvert_exporter": "python",
   "pygments_lexer": "ipython3",
   "version": "3.7.3"
  }
 },
 "nbformat": 4,
 "nbformat_minor": 2
}
